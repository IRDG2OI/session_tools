{
 "cells": [
  {
   "cell_type": "markdown",
   "id": "f5da5d0a",
   "metadata": {},
   "source": [
    "# Utilisation de l'API NodeODM à travers PyODM\n",
    "\n",
    "Dans ce Python Notebook, nous allons voir l'usage de l'API NodeODM à travers un module python dédié pour ça : PyODM. Les étapes consistent à :\n",
    "\n",
    "* Charger les modules Python\n",
    "* Configurer le noeud de calcul;\n",
    "* Envoyer les images sur le serveur et lancer le calcul;\n",
    "* Télécharger les résultats."
   ]
  },
  {
   "cell_type": "markdown",
   "id": "06527dc5",
   "metadata": {},
   "source": [
    "## Chargement des modules Python\n",
    "\n",
    "Il faut avoir préalablement installer [PyODM](https://opendronemap.org/pyodm/).\n",
    "\n",
    "SI vous êtes déjà adepte de Python en avoir aperçu la documentation:\n",
    "<https://pyodm.readthedocs.io>"
   ]
  },
  {
   "cell_type": "code",
   "execution_count": 13,
   "id": "efcc42d8",
   "metadata": {},
   "outputs": [],
   "source": [
    "import os\n",
    "from pyodm import Node"
   ]
  },
  {
   "cell_type": "markdown",
   "id": "3f26ff22",
   "metadata": {},
   "source": [
    "## Configuration du noeud de calcul\n",
    "\n",
    "Le noeud de calcul utilisé ici sera NodeODM. Ce noeud de calcul s'exécute actuellement sur le port \"49159\"\n",
    "> pour simplifier l'usage nous avons configurer le serveur de telle façon qu'il ne nécessite pas d'authentification"
   ]
  },
  {
   "cell_type": "code",
   "execution_count": 14,
   "id": "f3f39ad9",
   "metadata": {},
   "outputs": [],
   "source": [
    "n = Node('10.4.67.100', '49159')"
   ]
  },
  {
   "cell_type": "markdown",
   "id": "2ba9d577",
   "metadata": {},
   "source": [
    "## Upload et traitement des images sur le noeud de calcul\n",
    "\n",
    "Une fois les images uploadées, le calcul se fait automatiquement.\n",
    "Une seule option est précisée ici : `\"dsm\": True`"
   ]
  },
  {
   "cell_type": "code",
   "execution_count": 15,
   "id": "ca6aa449",
   "metadata": {},
   "outputs": [],
   "source": [
    "task = n.create_task([\n",
    "    '/home/sylvain/Documents/IRD/DATA/DemoODM/DJI_0514.JPG', '/home/sylvain/Documents/IRD/DATA/DemoODM/DJI_0515.JPG', '/home/sylvain/Documents/IRD/DATA/DemoODM/DJI_0516.JPG',\n",
    "    '/home/sylvain/Documents/IRD/DATA/DemoODM/DJI_0517.JPG', '/home/sylvain/Documents/IRD/DATA/DemoODM/DJI_0518.JPG', '/home/sylvain/Documents/IRD/DATA/DemoODM/DJI_0519.JPG',\n",
    "    '/home/sylvain/Documents/IRD/DATA/DemoODM/DJI_0520.JPG', '/home/sylvain/Documents/IRD/DATA/DemoODM/DJI_0521.JPG', '/home/sylvain/Documents/IRD/DATA/DemoODM/DJI_0522.JPG', \n",
    "    '/home/sylvain/Documents/IRD/DATA/DemoODM/DJI_0514.JPG', '/home/sylvain/Documents/IRD/DATA/DemoODM/DJI_0515.JPG', '/home/sylvain/Documents/IRD/DATA/DemoODM/DJI_0516.JPG',\n",
    "    '/home/sylvain/Documents/IRD/DATA/DemoODM/DJI_0523.JPG', '/home/sylvain/Documents/IRD/DATA/DemoODM/DJI_0545.JPG', '/home/sylvain/Documents/IRD/DATA/DemoODM/DJI_0546.JPG', \n",
    "    '/home/sylvain/Documents/IRD/DATA/DemoODM/DJI_0547.JPG', '/home/sylvain/Documents/IRD/DATA/DemoODM/DJI_0548.JPG', '/home/sylvain/Documents/IRD/DATA/DemoODM/DJI_0549.JPG',\n",
    "    '/home/sylvain/Documents/IRD/DATA/DemoODM/DJI_0550.JPG', '/home/sylvain/Documents/IRD/DATA/DemoODM/DJI_0551.JPG', '/home/sylvain/Documents/IRD/DATA/DemoODM/DJI_0552.JPG',\n",
    "    '/home/sylvain/Documents/IRD/DATA/DemoODM/DJI_0553.JPG', '/home/sylvain/Documents/IRD/DATA/DemoODM/DJI_0560.JPG', '/home/sylvain/Documents/IRD/DATA/DemoODM/DJI_0561.JPG',\n",
    "    '/home/sylvain/Documents/IRD/DATA/DemoODM/DJI_0562.JPG', '/home/sylvain/Documents/IRD/DATA/DemoODM/DJI_0563.JPG', '/home/sylvain/Documents/IRD/DATA/DemoODM/DJI_0564.JPG',\n",
    "    '/home/sylvain/Documents/IRD/DATA/DemoODM/DJI_0565.JPG', '/home/sylvain/Documents/IRD/DATA/DemoODM/DJI_0566.JPG'\n",
    "    ], \n",
    "    {'dsm': True})\n"
   ]
  },
  {
   "cell_type": "code",
   "execution_count": 16,
   "id": "c78a72aa",
   "metadata": {},
   "outputs": [
    {
     "name": "stdout",
     "output_type": "stream",
     "text": [
      "['DJI_0566.JPG', 'DJI_0565.JPG', 'DJI_0564.JPG', 'DJI_0563.JPG', 'DJI_0562.JPG', 'DJI_0561.JPG', 'DJI_0560.JPG', 'DJI_0553.JPG', 'DJI_0552.JPG', 'DJI_0551.JPG', 'DJI_0550.JPG', 'DJI_0549.JPG', 'DJI_0548.JPG', 'DJI_0547.JPG', 'DJI_0546.JPG', 'DJI_0545.JPG', 'DJI_0523.JPG', 'DJI_0522.JPG', 'DJI_0521.JPG', 'DJI_0520.JPG', 'DJI_0519.JPG', 'DJI_0518.JPG', 'DJI_0517.JPG', 'DJI_0516.JPG', 'DJI_0515.JPG', 'DJI_0514.JPG']\n"
     ]
    }
   ],
   "source": [
    "workdir = '/home/sylvain/Documents/IRD/DATA/DemoODM'\n",
    "os.chdir(workdir)\n",
    "img = os.listdir(workdir)\n",
    "print(img)"
   ]
  },
  {
   "cell_type": "markdown",
   "id": "caff58b1",
   "metadata": {},
   "source": [
    "## Téléchargement des résultats\n",
    "\n",
    "Les images sont compressées dans un fichier zip et comprennent les résultats."
   ]
  },
  {
   "cell_type": "code",
   "execution_count": 19,
   "id": "72cfa93f",
   "metadata": {},
   "outputs": [
    {
     "data": {
      "text/plain": [
       "['cameras.json',\n",
       " 'entwine_pointcloud',\n",
       " 'images.json',\n",
       " 'log.json',\n",
       " 'odm_dem',\n",
       " 'odm_georeferencing',\n",
       " 'odm_orthophoto',\n",
       " 'odm_report',\n",
       " 'odm_texturing',\n",
       " 'task_output.txt']"
      ]
     },
     "execution_count": 19,
     "metadata": {},
     "output_type": "execute_result"
    }
   ],
   "source": [
    "os.listdir(task.download_assets(\"results\"))[0:]"
   ]
  }
 ],
 "metadata": {
  "jupytext": {
   "main_language": "python"
  },
  "kernelspec": {
   "display_name": "Python 3.10.4 64-bit",
   "language": "python",
   "name": "python3"
  },
  "language_info": {
   "codemirror_mode": {
    "name": "ipython",
    "version": 3
   },
   "file_extension": ".py",
   "mimetype": "text/x-python",
   "name": "python",
   "nbconvert_exporter": "python",
   "pygments_lexer": "ipython3",
   "version": "3.10.8"
  },
  "vscode": {
   "interpreter": {
    "hash": "e7370f93d1d0cde622a1f8e1c04877d8463912d04d973331ad4851f04de6915a"
   }
  }
 },
 "nbformat": 4,
 "nbformat_minor": 5
}
