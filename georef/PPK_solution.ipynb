{
 "cells": [
  {
   "cell_type": "markdown",
   "metadata": {},
   "source": [
    "IMPORT LIBRARIES"
   ]
  },
  {
   "cell_type": "code",
   "execution_count": 1,
   "metadata": {},
   "outputs": [],
   "source": [
    "import os\n",
    "import subprocess\n",
    "import psutil\n",
    "import time"
   ]
  },
  {
   "cell_type": "code",
   "execution_count": 7,
   "metadata": {},
   "outputs": [],
   "source": [
    "ROOT = \"/media/mcontini/Maxtor/camly/data/\"\n",
    "CONFIG_PATH = \"/home/mcontini/Downloads/\"  # location of config files\n",
    "BASE_PATH = \"/home/mcontini/Downloads/\"  # location of base RINEX folder\n",
    "\n",
    "date = \"2022_10_23\"\n",
    "location = \"aldabra\"\n",
    "\n",
    "date_reach = date.replace(\"_\", \"\")"
   ]
  },
  {
   "cell_type": "code",
   "execution_count": 4,
   "metadata": {},
   "outputs": [],
   "source": [
    "cfgs = [\"ppk_aldabra_2023_03_10_v1\"]  # list of config files to run (files should have .conf ext)\n",
    "\n",
    "# Set maximum number of simultaneous occurences of rnx2rtkp to run\n",
    "max_windows = 10\n",
    " \n",
    "# Get list of current threads running\n",
    "current_process = psutil.Process()\n",
    "num_start = len(current_process.children())"
   ]
  },
  {
   "cell_type": "code",
   "execution_count": 6,
   "metadata": {},
   "outputs": [
    {
     "name": "stdout",
     "output_type": "stream",
     "text": [
      "/home/mcontini/Downloads/reach-base-_raw_202210230410_RINEX_3_03/reach-base-_raw_202210230410.22O\n"
     ]
    }
   ],
   "source": [
    "for folder in os.listdir(BASE_PATH) : \n",
    "\n",
    "     if (date_reach in folder) and (\"RINEX\" in folder) and not (folder.endswith(\".zip\")) and (folder.startswith(\"reach-base-_raw\")) :\n",
    "\n",
    "        baseRINEX = BASE_PATH + folder + \"/\"\n",
    "        \n",
    "        for file in os.listdir(baseRINEX) : \n",
    "        \n",
    "            if file.endswith(\"O\") :\n",
    "                baseFile = baseRINEX + file\n",
    "             "
   ]
  },
  {
   "cell_type": "code",
   "execution_count": 72,
   "metadata": {},
   "outputs": [
    {
     "name": "stdout",
     "output_type": "stream",
     "text": [
      "rnx2rtkp -x 0 -y 2 -k /home/clrintz/Downloads/ppk_aldabra_2023_03_10_v1.conf -o /media/clrintz/Maxtor/camly/data//session_2022_10_23_aldabra_DUBOIS_plancha_body_v1A_02/GPS/ppk_solution_session_2022_10_23_aldabra_DUBOIS_plancha_body_v1A_02.pos /media/clrintz/Maxtor/camly/data//session_2022_10_23_aldabra_DUBOIS_plancha_body_v1A_02/GPS/reach_raw_202210231231_RINEX_3_03/reach_raw_202210231231.22O /home/clrintz/Downloads/reach-base-_raw_202210230410_RINEX_3_03/reach-base-_raw_202210230410.22O /media/clrintz/Maxtor/camly/data//session_2022_10_23_aldabra_DUBOIS_plancha_body_v1A_02/GPS/reach_raw_202210231231_RINEX_3_03/reach_raw_202210231231.22P\n"
     ]
    },
    {
     "name": "stderr",
     "output_type": "stream",
     "text": [
      "                                        \r"
     ]
    }
   ],
   "source": [
    "for session in os.listdir(ROOT) : \n",
    "\n",
    "    # Look for the sessions at the given date\n",
    "    if (date in session) and (location in session) :\n",
    "        GPS_PATH = ROOT + \"/\" + session + \"/GPS/\"\n",
    "        for folder in os.listdir(GPS_PATH) :\n",
    "\n",
    "            # Look for the unzipped RINEX folder\n",
    "            if \"RINEX\" in folder and not folder.endswith(\".zip\") :\n",
    "                rovRINEX = GPS_PATH + folder + \"/\"\n",
    "\n",
    "                # Get the obs and nav files\n",
    "                for file in os.listdir(rovRINEX) :\n",
    "                    if file.endswith(\"O\") :\n",
    "                        rovFile = rovRINEX + file\n",
    "                    elif file.endswith(\"P\") :\n",
    "                        navFile = rovRINEX + file\n",
    "\n",
    "                # Run a solution for each config file in list \n",
    "                for cfg in cfgs:\n",
    "\n",
    "                    # Create command to run solution\n",
    "                    rtk_cmd = \"rnx2rtkp -x 0 -y 2 -k \" + CONFIG_PATH + cfg + \".conf -o \" + GPS_PATH + \"ppk_solution_\" + session + \".pos \" + rovFile + \" \" + baseFile + \" \" + navFile\n",
    "                    \n",
    "                    # -x : debug trace level (0:off)\n",
    "                    # -y : output solution status (0:off,1:states,2:residuals)\n",
    "                    # -k : config options\n",
    "                    # -o : output file\n",
    "                    \n",
    "                    # Run command\n",
    "                    os.system(rtk_cmd)\n",
    "         \n",
    "                # If max windows open, wait for one to close\n",
    "                while len(current_process.children()) - num_start >= max_windows :\n",
    "                    time.sleep(1) # wait here for existing window to close\n",
    "\n",
    "# Wait for all solutions to finish\n",
    "print('Waiting for solutions to complete ...')  \n",
    "while len(current_process.children())-num_start > 0:\n",
    "    pass #wait here if max windows open        \n",
    "print('Done')\n",
    "\n",
    "        "
   ]
  }
 ],
 "metadata": {
  "kernelspec": {
   "display_name": "base",
   "language": "python",
   "name": "python3"
  },
  "language_info": {
   "codemirror_mode": {
    "name": "ipython",
    "version": 3
   },
   "file_extension": ".py",
   "mimetype": "text/x-python",
   "name": "python",
   "nbconvert_exporter": "python",
   "pygments_lexer": "ipython3",
   "version": "3.9.12"
  },
  "vscode": {
   "interpreter": {
    "hash": "af3704b982ba4ef897c0048d98c5be972d9d72910c17529372c6908db9399274"
   }
  }
 },
 "nbformat": 4,
 "nbformat_minor": 4
}
